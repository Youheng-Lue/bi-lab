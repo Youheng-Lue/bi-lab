{
 "cells": [
  {
   "cell_type": "markdown",
   "id": "021b4e45",
   "metadata": {},
   "source": [
    "# Lab 1 (Pandas Tutorial)\n",
    "\n",
    "## Task2: Using the pandas Python Library\n",
    "\n",
    "### 2.1) Create a download script to download data\n",
    "\n"
   ]
  },
  {
   "cell_type": "code",
   "execution_count": 1,
   "id": "cf131e11",
   "metadata": {},
   "outputs": [
    {
     "name": "stdout",
     "output_type": "stream",
     "text": [
      "Download ready\n"
     ]
    }
   ],
   "source": [
    "import requests\n",
    "download_url = \"https://raw.githubusercontent.com/fivethirtyeight/data/master/nba-elo/nbaallelo.csv\"\n",
    "target_csv_path = \"nba_all_elo.csv\"\n",
    "\n",
    "response = requests.get(download_url)\n",
    "#save the file nba_all_elo.csv in your current working directory\n",
    "response.raise_for_status()#check that the request was successful\n",
    "\n",
    "with open(target_csv_path, \"wb\") as f:\n",
    "    f.write(response.content)\n",
    "\n",
    "print(\"Download ready\")"
   ]
  },
  {
   "cell_type": "markdown",
   "id": "38f6c6ac",
   "metadata": {},
   "source": [
    "### 2.2) Use pandas to look at the data"
   ]
  },
  {
   "cell_type": "code",
   "execution_count": 2,
   "id": "d1b94c6c",
   "metadata": {},
   "outputs": [],
   "source": [
    "import pandas as pd\n",
    "\n",
    "nba = pd.read_csv(target_csv_path)"
   ]
  },
  {
   "cell_type": "markdown",
   "id": "620d53b9",
   "metadata": {},
   "source": [
    "### 2.3) See how much data is in nba"
   ]
  },
  {
   "cell_type": "code",
   "execution_count": 3,
   "id": "ff76b1f4",
   "metadata": {},
   "outputs": [],
   "source": [
    "# Set you can see everything with a scroll bar\n",
    "pd.set_option(\"Display.max.columns\", None)\n",
    "\n",
    "# Precision of Pandas to only decimal places\n",
    "pd.set_option(\"display.precision\", 2)\n"
   ]
  },
  {
   "cell_type": "markdown",
   "id": "58d073e8",
   "metadata": {},
   "source": [
    "#### Question 1, display the first 3 rows\n"
   ]
  },
  {
   "cell_type": "code",
   "execution_count": 4,
   "id": "48e0864a",
   "metadata": {},
   "outputs": [
    {
     "data": {
      "text/html": [
       "<div>\n",
       "<style scoped>\n",
       "    .dataframe tbody tr th:only-of-type {\n",
       "        vertical-align: middle;\n",
       "    }\n",
       "\n",
       "    .dataframe tbody tr th {\n",
       "        vertical-align: top;\n",
       "    }\n",
       "\n",
       "    .dataframe thead th {\n",
       "        text-align: right;\n",
       "    }\n",
       "</style>\n",
       "<table border=\"1\" class=\"dataframe\">\n",
       "  <thead>\n",
       "    <tr style=\"text-align: right;\">\n",
       "      <th></th>\n",
       "      <th>gameorder</th>\n",
       "      <th>game_id</th>\n",
       "      <th>lg_id</th>\n",
       "      <th>_iscopy</th>\n",
       "      <th>year_id</th>\n",
       "      <th>date_game</th>\n",
       "      <th>seasongame</th>\n",
       "      <th>is_playoffs</th>\n",
       "      <th>team_id</th>\n",
       "      <th>fran_id</th>\n",
       "      <th>pts</th>\n",
       "      <th>elo_i</th>\n",
       "      <th>elo_n</th>\n",
       "      <th>win_equiv</th>\n",
       "      <th>opp_id</th>\n",
       "      <th>opp_fran</th>\n",
       "      <th>opp_pts</th>\n",
       "      <th>opp_elo_i</th>\n",
       "      <th>opp_elo_n</th>\n",
       "      <th>game_location</th>\n",
       "      <th>game_result</th>\n",
       "      <th>forecast</th>\n",
       "      <th>notes</th>\n",
       "    </tr>\n",
       "  </thead>\n",
       "  <tbody>\n",
       "    <tr>\n",
       "      <th>0</th>\n",
       "      <td>1</td>\n",
       "      <td>194611010TRH</td>\n",
       "      <td>NBA</td>\n",
       "      <td>0</td>\n",
       "      <td>1947</td>\n",
       "      <td>11/1/1946</td>\n",
       "      <td>1</td>\n",
       "      <td>0</td>\n",
       "      <td>TRH</td>\n",
       "      <td>Huskies</td>\n",
       "      <td>66</td>\n",
       "      <td>1300.0</td>\n",
       "      <td>1293.28</td>\n",
       "      <td>40.29</td>\n",
       "      <td>NYK</td>\n",
       "      <td>Knicks</td>\n",
       "      <td>68</td>\n",
       "      <td>1300.00</td>\n",
       "      <td>1306.72</td>\n",
       "      <td>H</td>\n",
       "      <td>L</td>\n",
       "      <td>0.64</td>\n",
       "      <td>NaN</td>\n",
       "    </tr>\n",
       "    <tr>\n",
       "      <th>1</th>\n",
       "      <td>1</td>\n",
       "      <td>194611010TRH</td>\n",
       "      <td>NBA</td>\n",
       "      <td>1</td>\n",
       "      <td>1947</td>\n",
       "      <td>11/1/1946</td>\n",
       "      <td>1</td>\n",
       "      <td>0</td>\n",
       "      <td>NYK</td>\n",
       "      <td>Knicks</td>\n",
       "      <td>68</td>\n",
       "      <td>1300.0</td>\n",
       "      <td>1306.72</td>\n",
       "      <td>41.71</td>\n",
       "      <td>TRH</td>\n",
       "      <td>Huskies</td>\n",
       "      <td>66</td>\n",
       "      <td>1300.00</td>\n",
       "      <td>1293.28</td>\n",
       "      <td>A</td>\n",
       "      <td>W</td>\n",
       "      <td>0.36</td>\n",
       "      <td>NaN</td>\n",
       "    </tr>\n",
       "    <tr>\n",
       "      <th>2</th>\n",
       "      <td>2</td>\n",
       "      <td>194611020CHS</td>\n",
       "      <td>NBA</td>\n",
       "      <td>0</td>\n",
       "      <td>1947</td>\n",
       "      <td>11/2/1946</td>\n",
       "      <td>1</td>\n",
       "      <td>0</td>\n",
       "      <td>CHS</td>\n",
       "      <td>Stags</td>\n",
       "      <td>63</td>\n",
       "      <td>1300.0</td>\n",
       "      <td>1309.65</td>\n",
       "      <td>42.01</td>\n",
       "      <td>NYK</td>\n",
       "      <td>Knicks</td>\n",
       "      <td>47</td>\n",
       "      <td>1306.72</td>\n",
       "      <td>1297.07</td>\n",
       "      <td>H</td>\n",
       "      <td>W</td>\n",
       "      <td>0.63</td>\n",
       "      <td>NaN</td>\n",
       "    </tr>\n",
       "  </tbody>\n",
       "</table>\n",
       "</div>"
      ],
      "text/plain": [
       "   gameorder       game_id lg_id  _iscopy  year_id  date_game  seasongame  \\\n",
       "0          1  194611010TRH   NBA        0     1947  11/1/1946           1   \n",
       "1          1  194611010TRH   NBA        1     1947  11/1/1946           1   \n",
       "2          2  194611020CHS   NBA        0     1947  11/2/1946           1   \n",
       "\n",
       "   is_playoffs team_id  fran_id  pts   elo_i    elo_n  win_equiv opp_id  \\\n",
       "0            0     TRH  Huskies   66  1300.0  1293.28      40.29    NYK   \n",
       "1            0     NYK   Knicks   68  1300.0  1306.72      41.71    TRH   \n",
       "2            0     CHS    Stags   63  1300.0  1309.65      42.01    NYK   \n",
       "\n",
       "  opp_fran  opp_pts  opp_elo_i  opp_elo_n game_location game_result  forecast  \\\n",
       "0   Knicks       68    1300.00    1306.72             H           L      0.64   \n",
       "1  Huskies       66    1300.00    1293.28             A           W      0.36   \n",
       "2   Knicks       47    1306.72    1297.07             H           W      0.63   \n",
       "\n",
       "  notes  \n",
       "0   NaN  \n",
       "1   NaN  \n",
       "2   NaN  "
      ]
     },
     "execution_count": 4,
     "metadata": {},
     "output_type": "execute_result"
    }
   ],
   "source": [
    "nba.head(3)"
   ]
  },
  {
   "cell_type": "markdown",
   "id": "4170a9a6",
   "metadata": {},
   "source": [
    "## Task3: Get to Know Your Data\n",
    "### 3.1) Discover the different types of your dataset"
   ]
  },
  {
   "cell_type": "markdown",
   "id": "eaa065d7",
   "metadata": {},
   "source": [
    "#### Question 2\n",
    "Observations about the columns team_id and fran_id\n",
    "\n",
    "-> Fran_id should be smaller than team_id, what's happening here?\n",
    "\n",
    "### 3.3) Exploring the dataset"
   ]
  },
  {
   "cell_type": "markdown",
   "id": "d5f98b1f",
   "metadata": {},
   "source": [
    "#### Question 3\n",
    "\n",
    "Find out how many wins and losses the Minneapolis Lakes had and ..."
   ]
  },
  {
   "cell_type": "code",
   "execution_count": 5,
   "id": "4268767c",
   "metadata": {},
   "outputs": [
    {
     "data": {
      "text/plain": [
       "W    524\n",
       "L    422\n",
       "Name: game_result, dtype: int64"
      ]
     },
     "execution_count": 5,
     "metadata": {},
     "output_type": "execute_result"
    }
   ],
   "source": [
    "nba.loc[nba[\"team_id\"] == \"MNL\", \"game_result\"].value_counts()"
   ]
  },
  {
   "cell_type": "markdown",
   "id": "13eab832",
   "metadata": {},
   "source": [
    "... how many points they scored during those games"
   ]
  },
  {
   "cell_type": "code",
   "execution_count": 6,
   "id": "00c7ebc6",
   "metadata": {},
   "outputs": [
    {
     "data": {
      "text/plain": [
       "88229"
      ]
     },
     "execution_count": 6,
     "metadata": {},
     "output_type": "execute_result"
    }
   ],
   "source": [
    "nba.loc[nba[\"team_id\"] == \"MNL\", \"pts\"].sum()"
   ]
  },
  {
   "cell_type": "markdown",
   "id": "91858507",
   "metadata": {},
   "source": [
    "#### Question 4 \n",
    "How many points did the Boston Celtics have scored during all matches contained in this dataset"
   ]
  },
  {
   "cell_type": "code",
   "execution_count": 7,
   "id": "c400d9cf",
   "metadata": {},
   "outputs": [
    {
     "data": {
      "text/plain": [
       "626484"
      ]
     },
     "execution_count": 7,
     "metadata": {},
     "output_type": "execute_result"
    }
   ],
   "source": [
    "nba.loc[nba[\"team_id\"] == \"BOS\", \"pts\"].sum()"
   ]
  },
  {
   "cell_type": "markdown",
   "id": "26f514f4",
   "metadata": {},
   "source": [
    "#### Question 5\n",
    "Explain the answer to Question 2 in a structured way:\n",
    "\n",
    "A francise has more than 1 team, therefore there is no error"
   ]
  },
  {
   "cell_type": "markdown",
   "id": "83e558ec",
   "metadata": {},
   "source": [
    "### Task 4 Data Access methods\n",
    "Using .loc, .iloc to get a subset of dataframe\n",
    "\n",
    "#### Question 6 \n",
    "6.1) Display the 4th row from the bottom of the nba dataset"
   ]
  },
  {
   "cell_type": "code",
   "execution_count": 8,
   "id": "2724a996",
   "metadata": {},
   "outputs": [
    {
     "data": {
      "text/plain": [
       "gameorder               63156\n",
       "game_id          201506140GSW\n",
       "lg_id                     NBA\n",
       "_iscopy                     0\n",
       "year_id                  2015\n",
       "date_game           6/14/2015\n",
       "seasongame                102\n",
       "is_playoffs                 1\n",
       "team_id                   GSW\n",
       "fran_id              Warriors\n",
       "pts                       104\n",
       "elo_i                 1809.98\n",
       "elo_n                 1813.63\n",
       "win_equiv               68.01\n",
       "opp_id                    CLE\n",
       "opp_fran            Cavaliers\n",
       "opp_pts                    91\n",
       "opp_elo_i             1704.39\n",
       "opp_elo_n             1700.74\n",
       "game_location               H\n",
       "game_result                 W\n",
       "forecast                 0.77\n",
       "notes                     NaN\n",
       "Name: 126310, dtype: object"
      ]
     },
     "execution_count": 8,
     "metadata": {},
     "output_type": "execute_result"
    }
   ],
   "source": [
    "nba.iloc[-4]"
   ]
  },
  {
   "cell_type": "markdown",
   "id": "f94d1fff",
   "metadata": {},
   "source": [
    "6.2) Use a data access method to display the 2nd row from the top of the nba dataset."
   ]
  },
  {
   "cell_type": "code",
   "execution_count": 9,
   "id": "ca559147",
   "metadata": {},
   "outputs": [
    {
     "data": {
      "text/plain": [
       "gameorder                   2\n",
       "game_id          194611020CHS\n",
       "lg_id                     NBA\n",
       "_iscopy                     0\n",
       "year_id                  1947\n",
       "date_game           11/2/1946\n",
       "seasongame                  1\n",
       "is_playoffs                 0\n",
       "team_id                   CHS\n",
       "fran_id                 Stags\n",
       "pts                        63\n",
       "elo_i                  1300.0\n",
       "elo_n                 1309.65\n",
       "win_equiv               42.01\n",
       "opp_id                    NYK\n",
       "opp_fran               Knicks\n",
       "opp_pts                    47\n",
       "opp_elo_i             1306.72\n",
       "opp_elo_n             1297.07\n",
       "game_location               H\n",
       "game_result                 W\n",
       "forecast                 0.63\n",
       "notes                     NaN\n",
       "Name: 2, dtype: object"
      ]
     },
     "execution_count": 9,
     "metadata": {},
     "output_type": "execute_result"
    }
   ],
   "source": [
    "nba.iloc[2]"
   ]
  },
  {
   "cell_type": "markdown",
   "id": "dfc319b6",
   "metadata": {},
   "source": [
    "6.3) Access all games between the labels 5555 and 5559; you only want to see the names of teams and the scores."
   ]
  },
  {
   "cell_type": "code",
   "execution_count": 10,
   "id": "c62b0b59",
   "metadata": {},
   "outputs": [
    {
     "data": {
      "text/html": [
       "<div>\n",
       "<style scoped>\n",
       "    .dataframe tbody tr th:only-of-type {\n",
       "        vertical-align: middle;\n",
       "    }\n",
       "\n",
       "    .dataframe tbody tr th {\n",
       "        vertical-align: top;\n",
       "    }\n",
       "\n",
       "    .dataframe thead th {\n",
       "        text-align: right;\n",
       "    }\n",
       "</style>\n",
       "<table border=\"1\" class=\"dataframe\">\n",
       "  <thead>\n",
       "    <tr style=\"text-align: right;\">\n",
       "      <th></th>\n",
       "      <th>team_id</th>\n",
       "      <th>opp_id</th>\n",
       "      <th>pts</th>\n",
       "      <th>opp_pts</th>\n",
       "    </tr>\n",
       "  </thead>\n",
       "  <tbody>\n",
       "    <tr>\n",
       "      <th>5555</th>\n",
       "      <td>FTW</td>\n",
       "      <td>PHW</td>\n",
       "      <td>83</td>\n",
       "      <td>56</td>\n",
       "    </tr>\n",
       "    <tr>\n",
       "      <th>5556</th>\n",
       "      <td>BOS</td>\n",
       "      <td>NYK</td>\n",
       "      <td>95</td>\n",
       "      <td>74</td>\n",
       "    </tr>\n",
       "    <tr>\n",
       "      <th>5557</th>\n",
       "      <td>NYK</td>\n",
       "      <td>BOS</td>\n",
       "      <td>74</td>\n",
       "      <td>95</td>\n",
       "    </tr>\n",
       "    <tr>\n",
       "      <th>5558</th>\n",
       "      <td>ROC</td>\n",
       "      <td>SYR</td>\n",
       "      <td>81</td>\n",
       "      <td>86</td>\n",
       "    </tr>\n",
       "  </tbody>\n",
       "</table>\n",
       "</div>"
      ],
      "text/plain": [
       "     team_id opp_id  pts  opp_pts\n",
       "5555     FTW    PHW   83       56\n",
       "5556     BOS    NYK   95       74\n",
       "5557     NYK    BOS   74       95\n",
       "5558     ROC    SYR   81       86"
      ]
     },
     "execution_count": 10,
     "metadata": {},
     "output_type": "execute_result"
    }
   ],
   "source": [
    "nba.iloc[5555:5559][[\"team_id\",\"opp_id\",\"pts\", \"opp_pts\"]]"
   ]
  },
  {
   "cell_type": "markdown",
   "id": "4b0063e9",
   "metadata": {},
   "source": [
    "## Task 5: Querying the Dataset\n",
    "#### Question 7\n",
    "Create a new DataFrame that consists of the games played between 2000 and 2009"
   ]
  },
  {
   "cell_type": "code",
   "execution_count": 11,
   "id": "d498ebc5",
   "metadata": {},
   "outputs": [],
   "source": [
    "temp = nba[nba[\"year_id\"] <= 2009]\n",
    "last_decade = temp[temp[\"year_id\"] >= 2000]\n",
    "del(temp)\n"
   ]
  },
  {
   "cell_type": "markdown",
   "id": "e3184819",
   "metadata": {},
   "source": [
    "#### Question.8 (report your answer): \n",
    "Filter your dataset and find all the playoffs games where the number of points scored by both home and away was more than 100 in 2011 and make sure you do not include duplicates (do not forget the parentheses)."
   ]
  },
  {
   "cell_type": "code",
   "execution_count": 12,
   "id": "9e65643e",
   "metadata": {},
   "outputs": [
    {
     "data": {
      "text/html": [
       "<div>\n",
       "<style scoped>\n",
       "    .dataframe tbody tr th:only-of-type {\n",
       "        vertical-align: middle;\n",
       "    }\n",
       "\n",
       "    .dataframe tbody tr th {\n",
       "        vertical-align: top;\n",
       "    }\n",
       "\n",
       "    .dataframe thead th {\n",
       "        text-align: right;\n",
       "    }\n",
       "</style>\n",
       "<table border=\"1\" class=\"dataframe\">\n",
       "  <thead>\n",
       "    <tr style=\"text-align: right;\">\n",
       "      <th></th>\n",
       "      <th>gameorder</th>\n",
       "      <th>game_id</th>\n",
       "      <th>lg_id</th>\n",
       "      <th>_iscopy</th>\n",
       "      <th>year_id</th>\n",
       "      <th>date_game</th>\n",
       "      <th>seasongame</th>\n",
       "      <th>is_playoffs</th>\n",
       "      <th>team_id</th>\n",
       "      <th>fran_id</th>\n",
       "      <th>pts</th>\n",
       "      <th>elo_i</th>\n",
       "      <th>elo_n</th>\n",
       "      <th>win_equiv</th>\n",
       "      <th>opp_id</th>\n",
       "      <th>opp_fran</th>\n",
       "      <th>opp_pts</th>\n",
       "      <th>opp_elo_i</th>\n",
       "      <th>opp_elo_n</th>\n",
       "      <th>game_location</th>\n",
       "      <th>game_result</th>\n",
       "      <th>forecast</th>\n",
       "      <th>notes</th>\n",
       "    </tr>\n",
       "  </thead>\n",
       "  <tbody>\n",
       "    <tr>\n",
       "      <th>113659</th>\n",
       "      <td>56830</td>\n",
       "      <td>201010260LAL</td>\n",
       "      <td>NBA</td>\n",
       "      <td>0</td>\n",
       "      <td>2011</td>\n",
       "      <td>10/26/2010</td>\n",
       "      <td>1</td>\n",
       "      <td>0</td>\n",
       "      <td>LAL</td>\n",
       "      <td>Lakers</td>\n",
       "      <td>112</td>\n",
       "      <td>1647.60</td>\n",
       "      <td>1649.20</td>\n",
       "      <td>55.61</td>\n",
       "      <td>HOU</td>\n",
       "      <td>Rockets</td>\n",
       "      <td>110</td>\n",
       "      <td>1504.20</td>\n",
       "      <td>1502.60</td>\n",
       "      <td>H</td>\n",
       "      <td>W</td>\n",
       "      <td>0.80</td>\n",
       "      <td>NaN</td>\n",
       "    </tr>\n",
       "    <tr>\n",
       "      <th>113668</th>\n",
       "      <td>56835</td>\n",
       "      <td>201010270GSW</td>\n",
       "      <td>NBA</td>\n",
       "      <td>0</td>\n",
       "      <td>2011</td>\n",
       "      <td>10/27/2010</td>\n",
       "      <td>1</td>\n",
       "      <td>0</td>\n",
       "      <td>GSW</td>\n",
       "      <td>Warriors</td>\n",
       "      <td>132</td>\n",
       "      <td>1432.78</td>\n",
       "      <td>1438.42</td>\n",
       "      <td>34.23</td>\n",
       "      <td>HOU</td>\n",
       "      <td>Rockets</td>\n",
       "      <td>128</td>\n",
       "      <td>1502.60</td>\n",
       "      <td>1496.96</td>\n",
       "      <td>H</td>\n",
       "      <td>W</td>\n",
       "      <td>0.54</td>\n",
       "      <td>NaN</td>\n",
       "    </tr>\n",
       "    <tr>\n",
       "      <th>113673</th>\n",
       "      <td>56837</td>\n",
       "      <td>201010270MEM</td>\n",
       "      <td>NBA</td>\n",
       "      <td>0</td>\n",
       "      <td>2011</td>\n",
       "      <td>10/27/2010</td>\n",
       "      <td>1</td>\n",
       "      <td>0</td>\n",
       "      <td>MEM</td>\n",
       "      <td>Grizzlies</td>\n",
       "      <td>104</td>\n",
       "      <td>1463.67</td>\n",
       "      <td>1450.23</td>\n",
       "      <td>35.44</td>\n",
       "      <td>ATL</td>\n",
       "      <td>Hawks</td>\n",
       "      <td>119</td>\n",
       "      <td>1564.23</td>\n",
       "      <td>1577.66</td>\n",
       "      <td>H</td>\n",
       "      <td>L</td>\n",
       "      <td>0.50</td>\n",
       "      <td>NaN</td>\n",
       "    </tr>\n",
       "    <tr>\n",
       "      <th>113674</th>\n",
       "      <td>56838</td>\n",
       "      <td>201010270MIN</td>\n",
       "      <td>NBA</td>\n",
       "      <td>0</td>\n",
       "      <td>2011</td>\n",
       "      <td>10/27/2010</td>\n",
       "      <td>1</td>\n",
       "      <td>0</td>\n",
       "      <td>MIN</td>\n",
       "      <td>Timberwolves</td>\n",
       "      <td>116</td>\n",
       "      <td>1307.70</td>\n",
       "      <td>1302.87</td>\n",
       "      <td>21.62</td>\n",
       "      <td>SAC</td>\n",
       "      <td>Kings</td>\n",
       "      <td>117</td>\n",
       "      <td>1356.56</td>\n",
       "      <td>1361.40</td>\n",
       "      <td>H</td>\n",
       "      <td>L</td>\n",
       "      <td>0.57</td>\n",
       "      <td>NaN</td>\n",
       "    </tr>\n",
       "    <tr>\n",
       "      <th>113684</th>\n",
       "      <td>56843</td>\n",
       "      <td>201010270SAS</td>\n",
       "      <td>NBA</td>\n",
       "      <td>0</td>\n",
       "      <td>2011</td>\n",
       "      <td>10/27/2010</td>\n",
       "      <td>1</td>\n",
       "      <td>0</td>\n",
       "      <td>SAS</td>\n",
       "      <td>Spurs</td>\n",
       "      <td>122</td>\n",
       "      <td>1594.28</td>\n",
       "      <td>1599.31</td>\n",
       "      <td>50.85</td>\n",
       "      <td>IND</td>\n",
       "      <td>Pacers</td>\n",
       "      <td>109</td>\n",
       "      <td>1492.38</td>\n",
       "      <td>1487.35</td>\n",
       "      <td>H</td>\n",
       "      <td>W</td>\n",
       "      <td>0.76</td>\n",
       "      <td>NaN</td>\n",
       "    </tr>\n",
       "    <tr>\n",
       "      <th>...</th>\n",
       "      <td>...</td>\n",
       "      <td>...</td>\n",
       "      <td>...</td>\n",
       "      <td>...</td>\n",
       "      <td>...</td>\n",
       "      <td>...</td>\n",
       "      <td>...</td>\n",
       "      <td>...</td>\n",
       "      <td>...</td>\n",
       "      <td>...</td>\n",
       "      <td>...</td>\n",
       "      <td>...</td>\n",
       "      <td>...</td>\n",
       "      <td>...</td>\n",
       "      <td>...</td>\n",
       "      <td>...</td>\n",
       "      <td>...</td>\n",
       "      <td>...</td>\n",
       "      <td>...</td>\n",
       "      <td>...</td>\n",
       "      <td>...</td>\n",
       "      <td>...</td>\n",
       "      <td>...</td>\n",
       "    </tr>\n",
       "    <tr>\n",
       "      <th>116213</th>\n",
       "      <td>58107</td>\n",
       "      <td>201105030OKC</td>\n",
       "      <td>NBA</td>\n",
       "      <td>0</td>\n",
       "      <td>2011</td>\n",
       "      <td>5/3/2011</td>\n",
       "      <td>89</td>\n",
       "      <td>1</td>\n",
       "      <td>OKC</td>\n",
       "      <td>Thunder</td>\n",
       "      <td>111</td>\n",
       "      <td>1659.01</td>\n",
       "      <td>1664.65</td>\n",
       "      <td>57.00</td>\n",
       "      <td>MEM</td>\n",
       "      <td>Grizzlies</td>\n",
       "      <td>102</td>\n",
       "      <td>1628.13</td>\n",
       "      <td>1622.49</td>\n",
       "      <td>H</td>\n",
       "      <td>W</td>\n",
       "      <td>0.68</td>\n",
       "      <td>NaN</td>\n",
       "    </tr>\n",
       "    <tr>\n",
       "      <th>116233</th>\n",
       "      <td>58117</td>\n",
       "      <td>201105090MEM</td>\n",
       "      <td>NBA</td>\n",
       "      <td>0</td>\n",
       "      <td>2011</td>\n",
       "      <td>5/9/2011</td>\n",
       "      <td>92</td>\n",
       "      <td>1</td>\n",
       "      <td>MEM</td>\n",
       "      <td>Grizzlies</td>\n",
       "      <td>123</td>\n",
       "      <td>1629.74</td>\n",
       "      <td>1616.46</td>\n",
       "      <td>52.53</td>\n",
       "      <td>OKC</td>\n",
       "      <td>Thunder</td>\n",
       "      <td>133</td>\n",
       "      <td>1657.41</td>\n",
       "      <td>1670.68</td>\n",
       "      <td>H</td>\n",
       "      <td>L</td>\n",
       "      <td>0.60</td>\n",
       "      <td>NaN</td>\n",
       "    </tr>\n",
       "    <tr>\n",
       "      <th>116248</th>\n",
       "      <td>58125</td>\n",
       "      <td>201105170DAL</td>\n",
       "      <td>NBA</td>\n",
       "      <td>0</td>\n",
       "      <td>2011</td>\n",
       "      <td>5/17/2011</td>\n",
       "      <td>93</td>\n",
       "      <td>1</td>\n",
       "      <td>DAL</td>\n",
       "      <td>Mavericks</td>\n",
       "      <td>121</td>\n",
       "      <td>1698.00</td>\n",
       "      <td>1703.92</td>\n",
       "      <td>60.35</td>\n",
       "      <td>OKC</td>\n",
       "      <td>Thunder</td>\n",
       "      <td>112</td>\n",
       "      <td>1677.60</td>\n",
       "      <td>1671.68</td>\n",
       "      <td>H</td>\n",
       "      <td>W</td>\n",
       "      <td>0.67</td>\n",
       "      <td>NaN</td>\n",
       "    </tr>\n",
       "    <tr>\n",
       "      <th>116258</th>\n",
       "      <td>58130</td>\n",
       "      <td>201105230OKC</td>\n",
       "      <td>NBA</td>\n",
       "      <td>0</td>\n",
       "      <td>2011</td>\n",
       "      <td>5/23/2011</td>\n",
       "      <td>98</td>\n",
       "      <td>1</td>\n",
       "      <td>OKC</td>\n",
       "      <td>Thunder</td>\n",
       "      <td>105</td>\n",
       "      <td>1672.98</td>\n",
       "      <td>1662.28</td>\n",
       "      <td>56.79</td>\n",
       "      <td>DAL</td>\n",
       "      <td>Mavericks</td>\n",
       "      <td>112</td>\n",
       "      <td>1702.62</td>\n",
       "      <td>1713.31</td>\n",
       "      <td>H</td>\n",
       "      <td>L</td>\n",
       "      <td>0.60</td>\n",
       "      <td>NaN</td>\n",
       "    </tr>\n",
       "    <tr>\n",
       "      <th>116275</th>\n",
       "      <td>58138</td>\n",
       "      <td>201106090DAL</td>\n",
       "      <td>NBA</td>\n",
       "      <td>0</td>\n",
       "      <td>2011</td>\n",
       "      <td>6/9/2011</td>\n",
       "      <td>102</td>\n",
       "      <td>1</td>\n",
       "      <td>DAL</td>\n",
       "      <td>Mavericks</td>\n",
       "      <td>112</td>\n",
       "      <td>1715.05</td>\n",
       "      <td>1721.75</td>\n",
       "      <td>61.77</td>\n",
       "      <td>MIA</td>\n",
       "      <td>Heat</td>\n",
       "      <td>103</td>\n",
       "      <td>1722.42</td>\n",
       "      <td>1715.72</td>\n",
       "      <td>H</td>\n",
       "      <td>W</td>\n",
       "      <td>0.63</td>\n",
       "      <td>NaN</td>\n",
       "    </tr>\n",
       "  </tbody>\n",
       "</table>\n",
       "<p>344 rows × 23 columns</p>\n",
       "</div>"
      ],
      "text/plain": [
       "        gameorder       game_id lg_id  _iscopy  year_id   date_game  \\\n",
       "113659      56830  201010260LAL   NBA        0     2011  10/26/2010   \n",
       "113668      56835  201010270GSW   NBA        0     2011  10/27/2010   \n",
       "113673      56837  201010270MEM   NBA        0     2011  10/27/2010   \n",
       "113674      56838  201010270MIN   NBA        0     2011  10/27/2010   \n",
       "113684      56843  201010270SAS   NBA        0     2011  10/27/2010   \n",
       "...           ...           ...   ...      ...      ...         ...   \n",
       "116213      58107  201105030OKC   NBA        0     2011    5/3/2011   \n",
       "116233      58117  201105090MEM   NBA        0     2011    5/9/2011   \n",
       "116248      58125  201105170DAL   NBA        0     2011   5/17/2011   \n",
       "116258      58130  201105230OKC   NBA        0     2011   5/23/2011   \n",
       "116275      58138  201106090DAL   NBA        0     2011    6/9/2011   \n",
       "\n",
       "        seasongame  is_playoffs team_id       fran_id  pts    elo_i    elo_n  \\\n",
       "113659           1            0     LAL        Lakers  112  1647.60  1649.20   \n",
       "113668           1            0     GSW      Warriors  132  1432.78  1438.42   \n",
       "113673           1            0     MEM     Grizzlies  104  1463.67  1450.23   \n",
       "113674           1            0     MIN  Timberwolves  116  1307.70  1302.87   \n",
       "113684           1            0     SAS         Spurs  122  1594.28  1599.31   \n",
       "...            ...          ...     ...           ...  ...      ...      ...   \n",
       "116213          89            1     OKC       Thunder  111  1659.01  1664.65   \n",
       "116233          92            1     MEM     Grizzlies  123  1629.74  1616.46   \n",
       "116248          93            1     DAL     Mavericks  121  1698.00  1703.92   \n",
       "116258          98            1     OKC       Thunder  105  1672.98  1662.28   \n",
       "116275         102            1     DAL     Mavericks  112  1715.05  1721.75   \n",
       "\n",
       "        win_equiv opp_id   opp_fran  opp_pts  opp_elo_i  opp_elo_n  \\\n",
       "113659      55.61    HOU    Rockets      110    1504.20    1502.60   \n",
       "113668      34.23    HOU    Rockets      128    1502.60    1496.96   \n",
       "113673      35.44    ATL      Hawks      119    1564.23    1577.66   \n",
       "113674      21.62    SAC      Kings      117    1356.56    1361.40   \n",
       "113684      50.85    IND     Pacers      109    1492.38    1487.35   \n",
       "...           ...    ...        ...      ...        ...        ...   \n",
       "116213      57.00    MEM  Grizzlies      102    1628.13    1622.49   \n",
       "116233      52.53    OKC    Thunder      133    1657.41    1670.68   \n",
       "116248      60.35    OKC    Thunder      112    1677.60    1671.68   \n",
       "116258      56.79    DAL  Mavericks      112    1702.62    1713.31   \n",
       "116275      61.77    MIA       Heat      103    1722.42    1715.72   \n",
       "\n",
       "       game_location game_result  forecast notes  \n",
       "113659             H           W      0.80   NaN  \n",
       "113668             H           W      0.54   NaN  \n",
       "113673             H           L      0.50   NaN  \n",
       "113674             H           L      0.57   NaN  \n",
       "113684             H           W      0.76   NaN  \n",
       "...              ...         ...       ...   ...  \n",
       "116213             H           W      0.68   NaN  \n",
       "116233             H           L      0.60   NaN  \n",
       "116248             H           W      0.67   NaN  \n",
       "116258             H           L      0.60   NaN  \n",
       "116275             H           W      0.63   NaN  \n",
       "\n",
       "[344 rows x 23 columns]"
      ]
     },
     "execution_count": 12,
     "metadata": {},
     "output_type": "execute_result"
    }
   ],
   "source": [
    "nba[(nba[\"_iscopy\"] == 0) & (nba[\"pts\"] > 100) & (nba[\"opp_pts\"] > 100) & (nba[\"year_id\"] == 2011)]"
   ]
  },
  {
   "cell_type": "markdown",
   "id": "b7aef555",
   "metadata": {},
   "source": [
    "## Task 6: Grouping and Aggregating your Data\n",
    "\n",
    "#### Question.9 (report your answer):\n",
    "Take a look at the New York Knicks 2011-12 season (year_id: 2012). How many wins and losses did they score during the regular season and the playoffs?"
   ]
  },
  {
   "cell_type": "code",
   "execution_count": 13,
   "id": "08b6a336",
   "metadata": {},
   "outputs": [
    {
     "data": {
      "text/plain": [
       "is_playoffs  game_result\n",
       "0            W              36\n",
       "             L              30\n",
       "1            L               4\n",
       "             W               1\n",
       "Name: game_result, dtype: int64"
      ]
     },
     "execution_count": 13,
     "metadata": {},
     "output_type": "execute_result"
    }
   ],
   "source": [
    "# 1. filter NYK, 2012 season\n",
    "# 2. groupby is_playoffs\n",
    "# 3. show count of wins and losses\n",
    "nba[(nba[\"team_id\"] == \"NYK\") & (nba[\"year_id\"] == 2012)].groupby(\"is_playoffs\")[\"game_result\"].value_counts()"
   ]
  },
  {
   "cell_type": "markdown",
   "id": "be68d523",
   "metadata": {},
   "source": [
    "## Task 7: Manipulating Columns\n",
    "No questions\n",
    "\n",
    "## Task 8: Specify Data Types\n",
    "#### Question.10 (report your answer): \n",
    "Find another column in the nba dataset with a generic data type and convert it to a more specific one."
   ]
  },
  {
   "cell_type": "code",
   "execution_count": 14,
   "id": "2ff7849e",
   "metadata": {},
   "outputs": [
    {
     "name": "stdout",
     "output_type": "stream",
     "text": [
      "<class 'pandas.core.frame.DataFrame'>\n",
      "RangeIndex: 126314 entries, 0 to 126313\n",
      "Data columns (total 23 columns):\n",
      " #   Column         Non-Null Count   Dtype  \n",
      "---  ------         --------------   -----  \n",
      " 0   gameorder      126314 non-null  int64  \n",
      " 1   game_id        126314 non-null  object \n",
      " 2   lg_id          126314 non-null  object \n",
      " 3   _iscopy        126314 non-null  int64  \n",
      " 4   year_id        126314 non-null  int64  \n",
      " 5   date_game      126314 non-null  object \n",
      " 6   seasongame     126314 non-null  int64  \n",
      " 7   is_playoffs    126314 non-null  int64  \n",
      " 8   team_id        126314 non-null  object \n",
      " 9   fran_id        126314 non-null  object \n",
      " 10  pts            126314 non-null  int64  \n",
      " 11  elo_i          126314 non-null  float64\n",
      " 12  elo_n          126314 non-null  float64\n",
      " 13  win_equiv      126314 non-null  float64\n",
      " 14  opp_id         126314 non-null  object \n",
      " 15  opp_fran       126314 non-null  object \n",
      " 16  opp_pts        126314 non-null  int64  \n",
      " 17  opp_elo_i      126314 non-null  float64\n",
      " 18  opp_elo_n      126314 non-null  float64\n",
      " 19  game_location  126314 non-null  object \n",
      " 20  game_result    126314 non-null  object \n",
      " 21  forecast       126314 non-null  float64\n",
      " 22  notes          5424 non-null    object \n",
      "dtypes: float64(6), int64(7), object(10)\n",
      "memory usage: 22.2+ MB\n"
     ]
    }
   ],
   "source": [
    "df = nba.copy()\n",
    "df.info()"
   ]
  },
  {
   "cell_type": "code",
   "execution_count": 15,
   "id": "f0dfa9d2",
   "metadata": {},
   "outputs": [
    {
     "data": {
      "text/plain": [
       "2"
      ]
     },
     "execution_count": 15,
     "metadata": {},
     "output_type": "execute_result"
    }
   ],
   "source": [
    "df[\"game_result\"].nunique()"
   ]
  },
  {
   "cell_type": "code",
   "execution_count": 16,
   "id": "c56a561a",
   "metadata": {},
   "outputs": [
    {
     "data": {
      "text/plain": [
       "0    L\n",
       "1    W\n",
       "2    W\n",
       "3    L\n",
       "4    L\n",
       "Name: game_result, dtype: category\n",
       "Categories (2, object): ['L', 'W']"
      ]
     },
     "execution_count": 16,
     "metadata": {},
     "output_type": "execute_result"
    }
   ],
   "source": [
    "df[\"game_result\"] = pd.Categorical(df[\"game_result\"]) # Change Game result to catecorical values\n",
    "\n",
    "df[\"game_result\"].head()"
   ]
  },
  {
   "cell_type": "markdown",
   "id": "83d58132",
   "metadata": {},
   "source": [
    "## Task 9: Cleaning the Data\n",
    "No questions\n",
    "## Task 10: Data Visualisation\n",
    "No questions\n",
    "\n",
    "\n"
   ]
  },
  {
   "cell_type": "code",
   "execution_count": 17,
   "id": "1abfa966",
   "metadata": {},
   "outputs": [
    {
     "data": {
      "text/plain": [
       "<AxesSubplot:xlabel='year_id'>"
      ]
     },
     "execution_count": 17,
     "metadata": {},
     "output_type": "execute_result"
    },
    {
     "data": {
      "image/png": "[encoded data removed]",
      "text/plain": [
       "<Figure size 432x288 with 1 Axes>"
      ]
     },
     "metadata": {
      "needs_background": "light"
     },
     "output_type": "display_data"
    }
   ],
   "source": [
    "#include this line to show plots directly in the notebook\n",
    "%matplotlib inline\n",
    "\n",
    "#visualise how many points the Knicks scored throughout the seasons\n",
    "nba[nba[\"fran_id\"] == \"Knicks\"].groupby(\"year_id\")[\"pts\"].sum().plot()\n",
    "\n",
    "\n"
   ]
  },
  {
   "cell_type": "code",
   "execution_count": 18,
   "id": "a990380b",
   "metadata": {},
   "outputs": [
    {
     "data": {
      "text/plain": [
       "<AxesSubplot:>"
      ]
     },
     "execution_count": 18,
     "metadata": {},
     "output_type": "execute_result"
    },
    {
     "data": {
      "image/png": "[encoded data removed]",
      "text/plain": [
       "<Figure size 432x288 with 1 Axes>"
      ]
     },
     "metadata": {
      "needs_background": "light"
     },
     "output_type": "display_data"
    }
   ],
   "source": [
    "#create a bar plot to show the franchises with the most games played\n",
    "nba[\"fran_id\"].value_counts().head(10).plot(kind=\"bar\")"
   ]
  },
  {
   "cell_type": "markdown",
   "id": "10a6ceef",
   "metadata": {},
   "source": [
    "#### Question.11 (report your answer):\n",
    "11.1)\tExplain what the above line plot, showing how many points the Knicks scored throughout the seasons, reveals to you (i.e. describe what you find out).\n"
   ]
  },
  {
   "cell_type": "markdown",
   "id": "6798da31",
   "metadata": {},
   "source": [
    "#### Answer:\n",
    "The lineplot shows me that the sum of points fluctuate between 4000 and 12000\n",
    "\n",
    "From 1950-1970 there has been a steady increase, while after 1970 the trend has been a slow decrease. \n",
    "\n",
    "Between the years the Scores still fluctuate by as much as 2000 points"
   ]
  },
  {
   "cell_type": "code",
   "execution_count": null,
   "id": "ab7c2897",
   "metadata": {},
   "outputs": [],
   "source": []
  },
  {
   "cell_type": "markdown",
   "id": "e65fc911",
   "metadata": {},
   "source": [
    "11.2)\tDescribe what the above bar plot reveals about the franchises with the most games played.\n"
   ]
  },
  {
   "cell_type": "markdown",
   "id": "6d129943",
   "metadata": {},
   "source": [
    "#### Answer:\n",
    "The first 8 franchises all have a similar amount of games played. Then it drops off with \"Wizards\" and \"Spurs\""
   ]
  },
  {
   "cell_type": "markdown",
   "id": "1f493579",
   "metadata": {},
   "source": [
    "11.3)\tIn 2013, the Miami Heat won the championship. Create a pie plot showing the count of their wins and losses during that season. (First, define a criterion to include only the Heat's games from 2013. Then, create a plot in the same way as you have seen above). "
   ]
  },
  {
   "cell_type": "code",
   "execution_count": 19,
   "id": "4a460749",
   "metadata": {},
   "outputs": [
    {
     "data": {
      "text/plain": [
       "<AxesSubplot:ylabel='game_result'>"
      ]
     },
     "execution_count": 19,
     "metadata": {},
     "output_type": "execute_result"
    },
    {
     "data": {
      "image/png": "[encoded data removed]",
      "text/plain": [
       "<Figure size 432x288 with 1 Axes>"
      ]
     },
     "metadata": {},
     "output_type": "display_data"
    }
   ],
   "source": [
    "data = nba[(nba[\"team_id\"] == \"MIA\") & (nba[\"year_id\"] == 2013)]\n",
    "\n",
    "data[\"game_result\"].value_counts().plot(kind=\"pie\")"
   ]
  }
 ],
 "metadata": {
  "kernelspec": {
   "display_name": "Python 3 (ipykernel)",
   "language": "python",
   "name": "python3"
  },
  "language_info": {
   "codemirror_mode": {
    "name": "ipython",
    "version": 3
   },
   "file_extension": ".py",
   "mimetype": "text/x-python",
   "name": "python",
   "nbconvert_exporter": "python",
   "pygments_lexer": "ipython3",
   "version": "3.8.8"
  }
 },
 "nbformat": 4,
 "nbformat_minor": 5
}
